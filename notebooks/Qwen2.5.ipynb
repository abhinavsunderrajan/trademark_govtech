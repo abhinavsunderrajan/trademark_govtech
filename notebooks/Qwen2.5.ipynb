{
 "cells": [
  {
   "cell_type": "markdown",
   "id": "e5753c60",
   "metadata": {},
   "source": [
    "### Unsloth based multimodal finetuning\n",
    "Used Qwen2-VL-2B-Instruct for its size, performance and ability to read Chinese. "
   ]
  },
  {
   "cell_type": "code",
   "execution_count": 2,
   "id": "edf76ccb",
   "metadata": {},
   "outputs": [],
   "source": [
    "import os\n",
    "os.environ[\"CUDA_VISIBLE_DEVICES\"]='0'\n",
    "# os.environ[\"WORLD_SIZE\"] = \"1\""
   ]
  },
  {
   "cell_type": "code",
   "execution_count": 3,
   "id": "ec86c492",
   "metadata": {},
   "outputs": [
    {
     "name": "stderr",
     "output_type": "stream",
     "text": [
      "/workspace/jupyter_notebooks/abhinav/llama32_env/lib/python3.11/site-packages/tqdm/auto.py:21: TqdmWarning: IProgress not found. Please update jupyter and ipywidgets. See https://ipywidgets.readthedocs.io/en/stable/user_install.html\n",
      "  from .autonotebook import tqdm as notebook_tqdm\n"
     ]
    },
    {
     "name": "stdout",
     "output_type": "stream",
     "text": [
      "🦥 Unsloth: Will patch your computer to enable 2x faster free finetuning.\n",
      "🦥 Unsloth Zoo will now patch everything to make training faster!\n"
     ]
    }
   ],
   "source": [
    "import torch\n",
    "import pandas as pd\n",
    "from sklearn.model_selection import train_test_split\n",
    "from glob import glob\n",
    "from tqdm import tqdm\n",
    "from PIL import Image\n",
    "import imagesize\n",
    "from qwen_vl_utils import process_vision_info\n",
    "from transformers import TextStreamer\n",
    "from transformers import AutoModelForVision2Seq, AutoProcessor, LlavaForConditionalGeneration\n",
    "from peft import get_peft_model, LoraConfig, AutoPeftModelForCausalLM, PeftModel, PeftConfig, prepare_model_for_kbit_training\n",
    "from transformers import TrainingArguments\n",
    "from unsloth import FastVisionModel # FastLanguageModel for LLMs\n",
    "from unsloth import is_bf16_supported\n",
    "from unsloth.trainer import UnslothVisionDataCollator\n",
    "from trl import SFTTrainer, SFTConfig\n",
    "from datasets import Dataset, load_dataset\n",
    "import requests"
   ]
  },
  {
   "cell_type": "markdown",
   "id": "9ec5c8ef",
   "metadata": {},
   "source": [
    "### Create data loaders\n",
    "1. 50_000 train\n",
    "2. 5_k validate"
   ]
  },
  {
   "cell_type": "code",
   "execution_count": 5,
   "id": "c0dafc57",
   "metadata": {},
   "outputs": [],
   "source": [
    "instruction = \"\"\"\n",
    "Analyse the image carfully and return the text in English, Chinese and the description of any pattern if present. Return the answer as json string.\n",
    "\"\"\"\n",
    "\n",
    "def transforms(examples):\n",
    "    examples[\"image\"] = [Image.open(image) for image in examples[\"image_path\"]]\n",
    "    return examples\n",
    "\n",
    "def format_data(sample):\n",
    "    conversation = [\n",
    "        { \"role\": \"user\",\n",
    "          \"content\" : [\n",
    "            {\"type\" : \"text\",  \"text\"  : instruction},\n",
    "            {\"type\" : \"image\", \"image\" : sample[\"image\"]} ]\n",
    "        },\n",
    "        { \"role\" : \"assistant\",\n",
    "          \"content\" : [\n",
    "            {\"type\" : \"text\",  \"text\"  : sample[\"answer\"]} ]\n",
    "        },\n",
    "    ]\n",
    "    return { \"messages\" : conversation }\n",
    "pass\n",
    "\n"
   ]
  },
  {
   "cell_type": "code",
   "execution_count": 6,
   "id": "511900e2",
   "metadata": {},
   "outputs": [
    {
     "name": "stderr",
     "output_type": "stream",
     "text": [
      "/tmp/ipykernel_1263412/3352756257.py:1: DtypeWarning: Columns (5) have mixed types. Specify dtype option on import or set low_memory=False.\n",
      "  train = pd.read_csv(\"./trademark_train.csv\")\n"
     ]
    },
    {
     "data": {
      "text/plain": [
       "Index(['date_str', 'wordsInMark', 'chineseCharacter', 'url', 'descrOfDevice',\n",
       "       'downloaded', 'answer', 'image_path', 'img_width'],\n",
       "      dtype='object')"
      ]
     },
     "execution_count": 6,
     "metadata": {},
     "output_type": "execute_result"
    }
   ],
   "source": [
    "train = pd.read_csv(\"./trademark_train.csv\")\n",
    "valid = pd.read_csv(\"trademark_test.csv\")\n",
    "train = train.loc[~train.image_path.str.contains('.bmp')]\n",
    "valid = valid.loc[~valid.image_path.str.contains('.bmp')]\n",
    "# train[\"image_path\"] = train.url.apply(lambda x: f\"./images/{x.split('/')[-1]}\")\n",
    "# valid[\"image_path\"] = valid.url.apply(lambda x: f\"./images/{x.split('/')[-1]}\")\n",
    "train = train.loc[train[\"img_width\"] < 1000].sample(50_000, random_state=42)\n",
    "valid = valid.loc[valid[\"img_width\"] < 1000].sample(5_000, random_state=42)\n",
    "train.reset_index(inplace=True, drop=True)\n",
    "valid.reset_index(inplace=True, drop=True)\n",
    "valid.columns"
   ]
  },
  {
   "cell_type": "code",
   "execution_count": 7,
   "id": "66359fea",
   "metadata": {},
   "outputs": [
    {
     "name": "stdout",
     "output_type": "stream",
     "text": [
      "https://ipos-storage.data.gov.sg/trademarks/T1005701H/f34109c0-cc88-43a6-afd4-9a085749fc02/T1005701H.jpg\n"
     ]
    },
    {
     "data": {
      "image/jpeg": "[encoded data removed]",
      "image/png": "[encoded data removed]",
      "text/plain": [
       "<PIL.JpegImagePlugin.JpegImageFile image mode=L size=400x253>"
      ]
     },
     "execution_count": 7,
     "metadata": {},
     "output_type": "execute_result"
    }
   ],
   "source": [
    "sample = valid.sample(1)\n",
    "print(sample.url.values[0])\n",
    "Image.open(sample.image_path.values[0])"
   ]
  },
  {
   "cell_type": "code",
   "execution_count": 8,
   "id": "ff09af29",
   "metadata": {},
   "outputs": [],
   "source": [
    "train_dataset = Dataset.from_pandas(train)\n",
    "valid_dataset = Dataset.from_pandas(valid)\n",
    "\n",
    "train_dataset.set_transform(transforms)\n",
    "valid_dataset.set_transform(transforms)"
   ]
  },
  {
   "cell_type": "code",
   "execution_count": 9,
   "id": "3b404a56",
   "metadata": {},
   "outputs": [],
   "source": [
    "# train_dataset = [format_data(sample) for sample in train_dataset]\n",
    "valid_dataset = [format_data(sample) for sample in valid_dataset]"
   ]
  },
  {
   "cell_type": "code",
   "execution_count": null,
   "id": "92a0084d",
   "metadata": {},
   "outputs": [],
   "source": [
    "# FastVisionModel.for_inference(model) # Enable for inference!\n",
    "\n",
    "# image = valid_dataset[2][\"image\"]\n",
    "\n",
    "# messages = [\n",
    "#     {\"role\": \"user\", \"content\": [\n",
    "#         {\"type\": \"image\"},\n",
    "#         {\"type\": \"text\", \"text\": instruction}\n",
    "#     ]}\n",
    "# ]\n",
    "# input_text = tokenizer.apply_chat_template(messages, add_generation_prompt = True)\n",
    "# inputs = tokenizer(\n",
    "#     image,\n",
    "#     input_text,\n",
    "#     add_special_tokens = False,\n",
    "#     return_tensors = \"pt\",\n",
    "# ).to(\"cuda\")\n",
    "\n",
    "# from transformers import TextStreamer\n",
    "# text_streamer = TextStreamer(tokenizer, skip_prompt = True)\n",
    "# _ = model.generate(**inputs, streamer = text_streamer, max_new_tokens = 128,\n",
    "#                    use_cache = True, temperature = 1.5, min_p = 0.1)"
   ]
  },
  {
   "cell_type": "markdown",
   "id": "f9269af9",
   "metadata": {},
   "source": [
    "### Train the model\n",
    "training the model for 1 epoch"
   ]
  },
  {
   "cell_type": "code",
   "execution_count": null,
   "id": "291afdaa",
   "metadata": {},
   "outputs": [],
   "source": [
    "model, tokenizer = FastVisionModel.from_pretrained(\n",
    "    \"unsloth/Qwen2-VL-2B-Instruct\",\n",
    "    load_in_4bit = False, # Use 4bit to reduce memory use. False for 16bit LoRA.\n",
    "    use_gradient_checkpointing = \"unsloth\", # True or \"unsloth\" for long context\n",
    ")"
   ]
  },
  {
   "cell_type": "code",
   "execution_count": null,
   "id": "cfcd48c0",
   "metadata": {},
   "outputs": [],
   "source": [
    "model = FastVisionModel.get_peft_model(\n",
    "    model,\n",
    "    finetune_vision_layers     = False, # False if not finetuning vision layers\n",
    "    finetune_language_layers   = True, # False if not finetuning language layers\n",
    "    finetune_attention_modules = True, # False if not finetuning attention layers\n",
    "    finetune_mlp_modules       = True, # False if not finetuning MLP layers\n",
    "    target_modules = [\"q_proj\", \"o_proj\", \"k_proj\", \"v_proj\", \"gate_proj\", \"up_proj\", \"down_proj\"],\n",
    "    r = 16,           # The larger, the higher the accuracy, but might overfit\n",
    "    lora_alpha = 16,  # Recommended alpha == r at least\n",
    "    lora_dropout = 0,\n",
    "    bias = \"none\",\n",
    "    random_state = 3407,\n",
    "    use_rslora = False,  # We support rank stabilized LoRA\n",
    "    loftq_config = None, # And LoftQ\n",
    "    # target_modules = \"all-linear\", # Optional now! Can specify a list if needed\n",
    ")"
   ]
  },
  {
   "cell_type": "code",
   "execution_count": null,
   "id": "7b9cb37c",
   "metadata": {},
   "outputs": [],
   "source": [
    "#@title Show current memory stats\n",
    "gpu_stats = torch.cuda.get_device_properties(0)\n",
    "start_gpu_memory = round(torch.cuda.max_memory_reserved() / 1024 / 1024 / 1024, 3)\n",
    "max_memory = round(gpu_stats.total_memory / 1024 / 1024 / 1024, 3)\n",
    "print(f\"GPU = {gpu_stats.name}. Max memory = {max_memory} GB.\")\n",
    "print(f\"{start_gpu_memory} GB of memory reserved.\")"
   ]
  },
  {
   "cell_type": "code",
   "execution_count": null,
   "id": "34a78295",
   "metadata": {},
   "outputs": [],
   "source": [
    "from unsloth import is_bf16_supported\n",
    "from unsloth.trainer import UnslothVisionDataCollator\n",
    "from trl import SFTTrainer, SFTConfig\n",
    "\n",
    "FastVisionModel.for_training(model) # Enable for training!\n",
    "\n",
    "trainer = SFTTrainer(\n",
    "    model = model,\n",
    "    tokenizer = tokenizer,\n",
    "    data_collator = UnslothVisionDataCollator(model, tokenizer), # Must use!\n",
    "    train_dataset = train_dataset,\n",
    "    args = SFTConfig(\n",
    "        per_device_train_batch_size = 2,\n",
    "        gradient_accumulation_steps = 4,\n",
    "        warmup_steps = 5,\n",
    "        # max_steps = 30,\n",
    "        num_train_epochs = 1, # Set this instead of max_steps for full training runs\n",
    "        learning_rate = 2e-4,\n",
    "        fp16 = not is_bf16_supported(),\n",
    "        bf16 = is_bf16_supported(),\n",
    "        logging_steps = 100,\n",
    "        save_strategy='steps',\n",
    "        save_steps=500,\n",
    "        optim = \"adamw_8bit\",\n",
    "        weight_decay = 0.01,\n",
    "        lr_scheduler_type = \"linear\",\n",
    "        seed = 3407,\n",
    "        output_dir = \"outputs\",\n",
    "        report_to = \"none\",     # For Weights and Biases\n",
    "\n",
    "        # You MUST put the below items for vision finetuning:\n",
    "        remove_unused_columns = False,\n",
    "        dataset_text_field = \"\",\n",
    "        dataset_kwargs = {\"skip_prepare_dataset\": True},\n",
    "        dataset_num_proc = 4,\n",
    "        max_seq_length = 2048,\n",
    "    ),\n",
    ")"
   ]
  },
  {
   "cell_type": "code",
   "execution_count": null,
   "id": "3ade2257",
   "metadata": {},
   "outputs": [],
   "source": [
    "trainer_stats = trainer.train(resume_from_checkpoint=True)"
   ]
  },
  {
   "cell_type": "code",
   "execution_count": null,
   "id": "e303ea73",
   "metadata": {},
   "outputs": [],
   "source": [
    "model.save_pretrained(f\"final_chkpt\") # Local saving\n",
    "tokenizer.save_pretrained(f\"final_chkpt\")\n",
    "model.save_pretrained_merged(f\"model_v1_4bit\", \n",
    "                             tokenizer, save_method = \"merged_16bit\",)"
   ]
  },
  {
   "cell_type": "code",
   "execution_count": null,
   "id": "0bec19ad",
   "metadata": {},
   "outputs": [],
   "source": []
  },
  {
   "cell_type": "markdown",
   "id": "628b0da8",
   "metadata": {},
   "source": [
    "### Inference\n",
    "In production I would use VLLM since this is a takehome I am not using it for simplicity"
   ]
  },
  {
   "cell_type": "code",
   "execution_count": 104,
   "id": "c38ffd6c",
   "metadata": {},
   "outputs": [],
   "source": [
    "import pandas as pd\n",
    "import ast \n",
    "import json\n",
    "from fuzzywuzzy import fuzz\n",
    "from glob import glob\n",
    "from PIL import Image, ImageFont, ImageDraw, ImageEnhance\n",
    "from transformers import TextStreamer"
   ]
  },
  {
   "cell_type": "code",
   "execution_count": 13,
   "id": "8595be56",
   "metadata": {},
   "outputs": [],
   "source": [
    "save_folder = \"model_v1_16bit\""
   ]
  },
  {
   "cell_type": "code",
   "execution_count": 14,
   "id": "0b9cbe88",
   "metadata": {},
   "outputs": [
    {
     "name": "stdout",
     "output_type": "stream",
     "text": [
      "==((====))==  Unsloth 2025.2.4: Fast Qwen2_Vl vision patching. Transformers: 4.51.3.\n",
      "   \\\\   /|    GPU: NVIDIA A100-SXM4-80GB. Max memory: 79.138 GB. Platform: Linux.\n",
      "O^O/ \\_/ \\    Torch: 2.5.1+cu124. CUDA: 8.0. CUDA Toolkit: 12.4. Triton: 3.1.0\n",
      "\\        /    Bfloat16 = TRUE. FA [Xformers = 0.0.28.post3. FA2 = False]\n",
      " \"-____-\"     Free Apache license: http://github.com/unslothai/unsloth\n",
      "Unsloth: Fast downloading is enabled - ignore downloading bars which are red colored!\n"
     ]
    }
   ],
   "source": [
    "\n",
    "model, tokenizer = FastVisionModel.from_pretrained(\n",
    "    model_name = save_folder, # YOUR MODEL YOU USED FOR TRAINING\n",
    "    load_in_4bit = False, # Set to False for 16bit LoRA\n",
    ")\n",
    "FastVisionModel.for_inference(model); # Enable for inference!"
   ]
  },
  {
   "cell_type": "code",
   "execution_count": 91,
   "id": "9868cc55",
   "metadata": {},
   "outputs": [
    {
     "data": {
      "image/jpeg": "[encoded data removed]",
      "image/png": "[encoded data removed]",
      "text/plain": [
       "<PIL.JpegImagePlugin.JpegImageFile image mode=RGB size=666x121>"
      ]
     },
     "execution_count": 91,
     "metadata": {},
     "output_type": "execute_result"
    }
   ],
   "source": [
    "index = 99\n",
    "image = valid_dataset[index]['messages'][0]['content'][1]['image']\n",
    "instruction = valid_dataset[index]['messages'][0]['content'][0]['text']\n",
    "image"
   ]
  },
  {
   "cell_type": "code",
   "execution_count": 92,
   "id": "aeda9cb6",
   "metadata": {},
   "outputs": [
    {
     "data": {
      "text/plain": [
       "'{\"wordsInMark\": \"falary\", \"chineseCharacter\": \"\", \"descrOfDevice\": \"\"}'"
      ]
     },
     "execution_count": 92,
     "metadata": {},
     "output_type": "execute_result"
    }
   ],
   "source": [
    "messages = [\n",
    "    {\"role\": \"user\", \"content\": [\n",
    "        {\"type\": \"image\"},\n",
    "        {\"type\": \"text\", \"text\": instruction}\n",
    "    ]}\n",
    "]\n",
    "input_text = tokenizer.apply_chat_template(messages, add_generation_prompt = True)\n",
    "inputs = tokenizer(\n",
    "    image,\n",
    "    input_text,\n",
    "    add_special_tokens = False,\n",
    "    return_tensors = \"pt\",\n",
    ").to(\"cuda\")\n",
    "\n",
    "\n",
    "text_streamer = TextStreamer(tokenizer, skip_prompt = True)\n",
    "op = model.generate(**inputs, \n",
    "                    # streamer = text_streamer,\n",
    "                    max_new_tokens = 1000,\n",
    "                   use_cache = True, temperature = 0.1)\n",
    "op = tokenizer.decode(op[0])\n",
    "op.split(\"<|im_start|>assistant\")[-1].strip(\"\\n\").replace(\"<|im_end|>\", \"\")"
   ]
  },
  {
   "cell_type": "markdown",
   "id": "5e0b1168",
   "metadata": {},
   "source": [
    "### For validation data, bonus evaluation"
   ]
  },
  {
   "cell_type": "code",
   "execution_count": 60,
   "id": "3ff28a02",
   "metadata": {},
   "outputs": [
    {
     "name": "stderr",
     "output_type": "stream",
     "text": [
      "100%|██████████| 100/100 [01:37<00:00,  1.03it/s]\n"
     ]
    }
   ],
   "source": [
    "def infervalid(index):\n",
    "    image = valid_dataset[index]['messages'][0]['content'][1]['image']\n",
    "    if image.width > 512 or image.height > 512:\n",
    "            image = image.resize((512, 512), Image.Resampling.LANCZOS)\n",
    "        \n",
    "    if image.width<30 or image.height<30:\n",
    "        image = image.resize((max(image.width, 30), max(image.height, 30)), Image.Resampling.LANCZOS)\n",
    "    instruction = valid_dataset[index]['messages'][0]['content'][0]['text']\n",
    "    messages = [\n",
    "    {\"role\": \"user\", \"content\": [\n",
    "        {\"type\": \"image\"},\n",
    "        {\"type\": \"text\", \"text\": instruction}\n",
    "    ]}\n",
    "    ]\n",
    "    input_text = tokenizer.apply_chat_template(messages, add_generation_prompt = True)\n",
    "    inputs = tokenizer(\n",
    "        image,\n",
    "        input_text,\n",
    "        add_special_tokens = False,\n",
    "        return_tensors = \"pt\",\n",
    "    ).to(\"cuda\")\n",
    "\n",
    "\n",
    "    text_streamer = TextStreamer(tokenizer, skip_prompt = True)\n",
    "    op = model.generate(**inputs, \n",
    "                        # streamer = text_streamer,\n",
    "                        max_new_tokens = 1000,\n",
    "                       use_cache = True, temperature = 0.1)\n",
    "    op = tokenizer.decode(op[0])\n",
    "    return op.split(\"<|im_start|>assistant\")[-1].strip(\"\\n\").replace(\"<|im_end|>\", \"\")\n",
    "    \n",
    "\n",
    "# compare groundtruth and predicted for the 1st 100 samples\n",
    "valid_ops = [infervalid(index_) for index_ in tqdm(range(100))]\n",
    "    "
   ]
  },
  {
   "cell_type": "code",
   "execution_count": 76,
   "id": "e77525d2",
   "metadata": {},
   "outputs": [
    {
     "data": {
      "text/plain": [
       "'{\"wordsInMark\": \"asahi breweries limited super dry asahi dry black\", \"chineseCharacter\": \"\\\\u751f\", \"descrOfDevice\": \"sheaf sheaves japanese\"}'"
      ]
     },
     "execution_count": 76,
     "metadata": {},
     "output_type": "execute_result"
    }
   ],
   "source": [
    "valid_ops[44]"
   ]
  },
  {
   "cell_type": "code",
   "execution_count": 112,
   "id": "36899875",
   "metadata": {},
   "outputs": [],
   "source": [
    "def get_compenents(row):\n",
    "    try:\n",
    "        x = ast.literal_eval(row[\"predicted_op\"])\n",
    "        return x['wordsInMark'], x['chineseCharacter'], x['descrOfDevice']\n",
    "    except:\n",
    "        return None, None, None\n",
    "    \n",
    "def is_bad(value):\n",
    "    if (value != value) | (value is None):\n",
    "        return True\n",
    "    else:\n",
    "        return False\n",
    "\n",
    "def fuzzy_sim_token_sort(s1, s2):\n",
    "    if s1 == \"\" or s2 == \"\" or is_bad(s1) or is_bad(s1):\n",
    "        return 0\n",
    "    else:\n",
    "        return fuzz.token_sort_ratio(s1, s2)\n",
    "    \n",
    "def fuzzy_sim_token_set(s1, s2):\n",
    "    if s1 == \"\" or s2 == \"\" or is_bad(s1) or is_bad(s1):\n",
    "        return 0\n",
    "    else:\n",
    "        return fuzz.token_set_ratio(s1, s2)\n",
    "    \n",
    "    \n",
    "predicted_op = pd.DataFrame({\"predicted_op\":valid_ops})\n",
    "predicted_op[[\"wordsInMark_pred\", \"chineseCharacter_pred\", \"descrOfDevice_pred\"]] = predicted_op.apply(\n",
    "    get_compenents, axis=1, result_type=\"expand\")"
   ]
  },
  {
   "cell_type": "code",
   "execution_count": 97,
   "id": "fe0fcc97",
   "metadata": {},
   "outputs": [
    {
     "data": {
      "text/html": [
       "<div>\n",
       "<style scoped>\n",
       "    .dataframe tbody tr th:only-of-type {\n",
       "        vertical-align: middle;\n",
       "    }\n",
       "\n",
       "    .dataframe tbody tr th {\n",
       "        vertical-align: top;\n",
       "    }\n",
       "\n",
       "    .dataframe thead th {\n",
       "        text-align: right;\n",
       "    }\n",
       "</style>\n",
       "<table border=\"1\" class=\"dataframe\">\n",
       "  <thead>\n",
       "    <tr style=\"text-align: right;\">\n",
       "      <th></th>\n",
       "      <th>predicted_op</th>\n",
       "      <th>wordsInMark_pred</th>\n",
       "      <th>chineseCharacter_pred</th>\n",
       "      <th>descrOfDevice_pred</th>\n",
       "    </tr>\n",
       "  </thead>\n",
       "  <tbody>\n",
       "    <tr>\n",
       "      <th>42</th>\n",
       "      <td>{\"wordsInMark\": \"ok everyday low price\", \"chin...</td>\n",
       "      <td>None</td>\n",
       "      <td>None</td>\n",
       "      <td>None</td>\n",
       "    </tr>\n",
       "  </tbody>\n",
       "</table>\n",
       "</div>"
      ],
      "text/plain": [
       "                                         predicted_op wordsInMark_pred  \\\n",
       "42  {\"wordsInMark\": \"ok everyday low price\", \"chin...             None   \n",
       "\n",
       "   chineseCharacter_pred descrOfDevice_pred  \n",
       "42                  None               None  "
      ]
     },
     "execution_count": 97,
     "metadata": {},
     "output_type": "execute_result"
    }
   ],
   "source": [
    "# 1 prediction in 100 fails\n",
    "predicted_op.loc[predicted_op.wordsInMark_pred.isna()]"
   ]
  },
  {
   "cell_type": "code",
   "execution_count": 103,
   "id": "1b3cfbc4",
   "metadata": {},
   "outputs": [],
   "source": [
    "results = pd.concat([valid[[\"wordsInMark\", \"chineseCharacter\", \"descrOfDevice\"]].head(100), predicted_op], axis=1).drop(columns=[\"predicted_op\"])\n",
    "results.fillna(\"\", inplace=True)"
   ]
  },
  {
   "cell_type": "code",
   "execution_count": 109,
   "id": "c486ceb7",
   "metadata": {},
   "outputs": [
    {
     "data": {
      "text/html": [
       "<div>\n",
       "<style scoped>\n",
       "    .dataframe tbody tr th:only-of-type {\n",
       "        vertical-align: middle;\n",
       "    }\n",
       "\n",
       "    .dataframe tbody tr th {\n",
       "        vertical-align: top;\n",
       "    }\n",
       "\n",
       "    .dataframe thead th {\n",
       "        text-align: right;\n",
       "    }\n",
       "</style>\n",
       "<table border=\"1\" class=\"dataframe\">\n",
       "  <thead>\n",
       "    <tr style=\"text-align: right;\">\n",
       "      <th></th>\n",
       "      <th>wordsInMark</th>\n",
       "      <th>chineseCharacter</th>\n",
       "      <th>descrOfDevice</th>\n",
       "      <th>wordsInMark_pred</th>\n",
       "      <th>chineseCharacter_pred</th>\n",
       "      <th>descrOfDevice_pred</th>\n",
       "    </tr>\n",
       "  </thead>\n",
       "  <tbody>\n",
       "    <tr>\n",
       "      <th>0</th>\n",
       "      <td>techforgood tech good</td>\n",
       "      <td></td>\n",
       "      <td>heart</td>\n",
       "      <td>tech for good</td>\n",
       "      <td></td>\n",
       "      <td>heart</td>\n",
       "    </tr>\n",
       "    <tr>\n",
       "      <th>1</th>\n",
       "      <td>fg foodgears food gears</td>\n",
       "      <td></td>\n",
       "      <td></td>\n",
       "      <td>fg food gears</td>\n",
       "      <td></td>\n",
       "      <td>angled stripe</td>\n",
       "    </tr>\n",
       "    <tr>\n",
       "      <th>2</th>\n",
       "      <td>bodi</td>\n",
       "      <td></td>\n",
       "      <td></td>\n",
       "      <td>bodi</td>\n",
       "      <td></td>\n",
       "      <td></td>\n",
       "    </tr>\n",
       "    <tr>\n",
       "      <th>3</th>\n",
       "      <td>neuromethod</td>\n",
       "      <td></td>\n",
       "      <td></td>\n",
       "      <td>neuromethod</td>\n",
       "      <td></td>\n",
       "      <td></td>\n",
       "    </tr>\n",
       "    <tr>\n",
       "      <th>4</th>\n",
       "      <td>biznet global</td>\n",
       "      <td></td>\n",
       "      <td>globe</td>\n",
       "      <td>biznet global</td>\n",
       "      <td></td>\n",
       "      <td>globe</td>\n",
       "    </tr>\n",
       "    <tr>\n",
       "      <th>...</th>\n",
       "      <td>...</td>\n",
       "      <td>...</td>\n",
       "      <td>...</td>\n",
       "      <td>...</td>\n",
       "      <td>...</td>\n",
       "      <td>...</td>\n",
       "    </tr>\n",
       "    <tr>\n",
       "      <th>95</th>\n",
       "      <td>ecomax</td>\n",
       "      <td></td>\n",
       "      <td></td>\n",
       "      <td>ecomax</td>\n",
       "      <td></td>\n",
       "      <td>lightning</td>\n",
       "    </tr>\n",
       "    <tr>\n",
       "      <th>96</th>\n",
       "      <td>mhg</td>\n",
       "      <td></td>\n",
       "      <td></td>\n",
       "      <td>mhg</td>\n",
       "      <td></td>\n",
       "      <td></td>\n",
       "    </tr>\n",
       "    <tr>\n",
       "      <th>97</th>\n",
       "      <td>KOOL</td>\n",
       "      <td></td>\n",
       "      <td>interlocking rings diverging rays</td>\n",
       "      <td>kool</td>\n",
       "      <td></td>\n",
       "      <td>curls flame</td>\n",
       "    </tr>\n",
       "    <tr>\n",
       "      <th>98</th>\n",
       "      <td>n gold</td>\n",
       "      <td>純硬金</td>\n",
       "      <td>overlapping ovals</td>\n",
       "      <td>n gold</td>\n",
       "      <td>尚爾金</td>\n",
       "      <td>pebbles</td>\n",
       "    </tr>\n",
       "    <tr>\n",
       "      <th>99</th>\n",
       "      <td>falary</td>\n",
       "      <td></td>\n",
       "      <td></td>\n",
       "      <td>falary</td>\n",
       "      <td></td>\n",
       "      <td></td>\n",
       "    </tr>\n",
       "  </tbody>\n",
       "</table>\n",
       "<p>100 rows × 6 columns</p>\n",
       "</div>"
      ],
      "text/plain": [
       "                wordsInMark chineseCharacter  \\\n",
       "0     techforgood tech good                    \n",
       "1   fg foodgears food gears                    \n",
       "2                      bodi                    \n",
       "3               neuromethod                    \n",
       "4             biznet global                    \n",
       "..                      ...              ...   \n",
       "95                   ecomax                    \n",
       "96                      mhg                    \n",
       "97                     KOOL                    \n",
       "98                   n gold              純硬金   \n",
       "99                   falary                    \n",
       "\n",
       "                        descrOfDevice wordsInMark_pred chineseCharacter_pred  \\\n",
       "0                              heart     tech for good                         \n",
       "1                                        fg food gears                         \n",
       "2                                                 bodi                         \n",
       "3                                          neuromethod                         \n",
       "4                               globe    biznet global                         \n",
       "..                                ...              ...                   ...   \n",
       "95                                              ecomax                         \n",
       "96                                                 mhg                         \n",
       "97  interlocking rings diverging rays             kool                         \n",
       "98                  overlapping ovals           n gold                   尚爾金   \n",
       "99                                              falary                         \n",
       "\n",
       "   descrOfDevice_pred  \n",
       "0               heart  \n",
       "1       angled stripe  \n",
       "2                      \n",
       "3                      \n",
       "4               globe  \n",
       "..                ...  \n",
       "95          lightning  \n",
       "96                     \n",
       "97        curls flame  \n",
       "98            pebbles  \n",
       "99                     \n",
       "\n",
       "[100 rows x 6 columns]"
      ]
     },
     "execution_count": 109,
     "metadata": {},
     "output_type": "execute_result"
    }
   ],
   "source": [
    "results"
   ]
  },
  {
   "cell_type": "code",
   "execution_count": 116,
   "id": "f7bf849e",
   "metadata": {},
   "outputs": [
    {
     "data": {
      "text/plain": [
       "0.25     98.0\n",
       "0.50    100.0\n",
       "0.75    100.0\n",
       "0.95    100.0\n",
       "dtype: float64"
      ]
     },
     "execution_count": 116,
     "metadata": {},
     "output_type": "execute_result"
    }
   ],
   "source": [
    "# the english text is extracted well, some nuances are yet to be captured. This can be fixed by training longer with all the data.\n",
    "results.apply(lambda row: fuzzy_sim_token_sort(row[\"wordsInMark\"], \n",
    "row[\"wordsInMark_pred\"]), axis=1).quantile([0.25, 0.5, 0.75, 0.95])"
   ]
  },
  {
   "cell_type": "code",
   "execution_count": 120,
   "id": "5d1cbc1a",
   "metadata": {},
   "outputs": [
    {
     "data": {
      "text/plain": [
       "32      0\n",
       "41    100\n",
       "42      0\n",
       "44    100\n",
       "47    100\n",
       "56     83\n",
       "98     33\n",
       "dtype: int64"
      ]
     },
     "execution_count": 120,
     "metadata": {},
     "output_type": "execute_result"
    }
   ],
   "source": [
    "# the Chinese charachter extraction can definitely be improved but the sample size is a bit small\n",
    "results.loc[results.chineseCharacter.str.len() > 0].apply(lambda row: fuzzy_sim_token_sort(row[\"chineseCharacter\"], \n",
    "row[\"chineseCharacter_pred\"]), axis=1)\n"
   ]
  },
  {
   "cell_type": "code",
   "execution_count": 122,
   "id": "1eeba17a",
   "metadata": {},
   "outputs": [
    {
     "data": {
      "text/plain": [
       "0.25     21.0\n",
       "0.50     39.0\n",
       "0.75    100.0\n",
       "0.95    100.0\n",
       "dtype: float64"
      ]
     },
     "execution_count": 122,
     "metadata": {},
     "output_type": "execute_result"
    }
   ],
   "source": [
    "# there is room for improvement here. I suggest training for longer with more data. In many cases the description groundth truth is quite subjective\n",
    "results.loc[results.descrOfDevice.str.len() > 0].apply(lambda row: fuzzy_sim_token_sort(row[\"descrOfDevice\"], \n",
    "row[\"descrOfDevice_pred\"]), axis=1).quantile([0.25, 0.5, 0.75, 0.95])"
   ]
  },
  {
   "cell_type": "markdown",
   "id": "8aa0aa63",
   "metadata": {},
   "source": [
    "### Huggingface inference"
   ]
  },
  {
   "cell_type": "code",
   "execution_count": null,
   "id": "165a5cc3",
   "metadata": {},
   "outputs": [],
   "source": [
    "from transformers import Qwen2VLForConditionalGeneration, AutoTokenizer, AutoProcessor\n",
    "\n",
    "from qwen_vl_utils import process_vision_info\n",
    "\n",
    "# default: Load the model on the available device(s)\n",
    "model = Qwen2VLForConditionalGeneration.from_pretrained(\n",
    "    \"final_chkpt/\", torch_dtype=\"auto\", device_map=\"auto\"\n",
    ")"
   ]
  },
  {
   "cell_type": "code",
   "execution_count": null,
   "id": "9defd87e",
   "metadata": {},
   "outputs": [],
   "source": [
    "processor = AutoProcessor.from_pretrained(\"Qwen/Qwen2-VL-2B-Instruct\")\n"
   ]
  },
  {
   "cell_type": "code",
   "execution_count": null,
   "id": "4973c308",
   "metadata": {},
   "outputs": [],
   "source": [
    "index = 467\n",
    "image = valid_dataset[index]['messages'][0]['content'][1]['image']\n",
    "instruction = valid_dataset[index]['messages'][0]['content'][0]['text']\n",
    "image"
   ]
  },
  {
   "cell_type": "code",
   "execution_count": null,
   "id": "4e41b842",
   "metadata": {},
   "outputs": [],
   "source": [
    "messages = [\n",
    "    {\"role\": \"user\", \"content\": [\n",
    "        {\"type\": \"image\"},\n",
    "        {\"type\": \"text\", \"text\": instruction}\n",
    "    ]}\n",
    "]\n",
    "input_text = processor.apply_chat_template(messages, add_generation_prompt = True)\n",
    "\n",
    "inputs = processor(\n",
    "    image,\n",
    "    input_text,\n",
    "    add_special_tokens = False,\n",
    "    return_tensors = \"pt\",\n",
    ").to(\"cuda\")\n",
    "\n",
    "\n",
    "op = model.generate(**inputs, \n",
    "                    # streamer = text_streamer,\n",
    "                    max_new_tokens = 1000,\n",
    "                   use_cache = True, temperature = 0.1)\n",
    "generated_ids_trimmed = [\n",
    "    out_ids[len(in_ids) :] for in_ids, out_ids in zip(inputs.input_ids, op)\n",
    "]"
   ]
  },
  {
   "cell_type": "code",
   "execution_count": null,
   "id": "e232b762",
   "metadata": {},
   "outputs": [],
   "source": [
    "output_text = processor.batch_decode(\n",
    "    generated_ids_trimmed, skip_special_tokens=True, clean_up_tokenization_spaces=False\n",
    ")\n",
    "print(output_text)"
   ]
  },
  {
   "cell_type": "code",
   "execution_count": null,
   "id": "637abd92",
   "metadata": {},
   "outputs": [],
   "source": []
  }
 ],
 "metadata": {
  "kernelspec": {
   "display_name": "llama32_env",
   "language": "python",
   "name": "llama32_env"
  },
  "language_info": {
   "codemirror_mode": {
    "name": "ipython",
    "version": 3
   },
   "file_extension": ".py",
   "mimetype": "text/x-python",
   "name": "python",
   "nbconvert_exporter": "python",
   "pygments_lexer": "ipython3",
   "version": "3.11.12"
  }
 },
 "nbformat": 4,
 "nbformat_minor": 5
}
