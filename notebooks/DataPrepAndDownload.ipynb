{
 "cells": [
  {
   "cell_type": "code",
   "execution_count": null,
   "id": "fde86043",
   "metadata": {},
   "outputs": [],
   "source": [
    "import requests\n",
    "from datetime import datetime, timedelta\n",
    "import pandas as pd\n",
    "from pandarallel import pandarallel\n",
    "pandarallel.initialize(nb_workers = 16, progress_bar=True)\n",
    "from tqdm import tqdm\n",
    "from glob import glob\n",
    "from pathlib import Path\n",
    "import ast\n",
    "import json\n",
    "import os\n",
    "import requests\n",
    "from PIL import Image\n",
    "from sklearn.model_selection import train_test_split\n",
    "\n",
    "from io import BytesIO\n",
    "tqdm.pandas()"
   ]
  },
  {
   "cell_type": "markdown",
   "id": "b957abac",
   "metadata": {},
   "source": [
    "### Call data gov API to the trademark image URLs"
   ]
  },
  {
   "cell_type": "code",
   "execution_count": null,
   "id": "d27f4f72",
   "metadata": {},
   "outputs": [],
   "source": [
    "start_date = datetime.strptime(\"2009-01-01\", \"%Y-%m-%d\")\n",
    "end_date = datetime.strptime(\"2017-12-31\", \"%Y-%m-%d\")  # inclusive\n",
    "url = \"https://api.data.gov.sg/v1/technology/ipos/trademarks\""
   ]
  },
  {
   "cell_type": "code",
   "execution_count": null,
   "id": "5d0ed021",
   "metadata": {},
   "outputs": [],
   "source": [
    "\n",
    "def get_data_for_date(row):\n",
    "    date_str = row[\"date_str\"]\n",
    "    params = {\"lodgement_date\": date_str}\n",
    "    try:\n",
    "        response = requests.get(url, params=params, timeout=30)\n",
    "        # print(response.json())\n",
    "        if response.status_code == 200:\n",
    "            data = response.json()\n",
    "            item_data = []\n",
    "            if len(data['items']) >0:\n",
    "                for item in data['items']:\n",
    "                    if item['markIndex'] is None:\n",
    "                        continue\n",
    "                    item_data.append((item['markIndex'][0]['wordsInMark'], item['markIndex'][0]['chineseCharacter'], \n",
    "                    item['documents'][0]['url'], item['markIndex'][0]['descrOfDevice']))\n",
    "                return item_data\n",
    "            else:\n",
    "                return None\n",
    "        else:\n",
    "            return None \n",
    "    except:\n",
    "        return None\n",
    "    \n",
    "\n",
    "def expand(row):\n",
    "    data_points = row['data_points']\n",
    "    return data_points[0], data_points[1], data_points[2], data_points[3]\n"
   ]
  },
  {
   "cell_type": "code",
   "execution_count": null,
   "id": "fcfe23f6",
   "metadata": {},
   "outputs": [],
   "source": [
    "all_dates = []\n",
    "current_date = start_date\n",
    "while current_date <= end_date:\n",
    "    all_dates.append(current_date.strftime(\"%Y-%m-%d\"))\n",
    "    current_date += timedelta(days=1)\n",
    "\n",
    "df = pd.DataFrame({\"date_str\":all_dates})\n",
    "df[\"data_points\"] = df.parallel_apply(lambda row: get_data_for_date(row), axis=1)"
   ]
  },
  {
   "cell_type": "code",
   "execution_count": null,
   "id": "21fd3374",
   "metadata": {},
   "outputs": [],
   "source": [
    "df = df.loc[~df.data_points.isna()]\n",
    "df = df.loc[df.data_points.apply(lambda x: len(x) >0)]\n",
    "df = df.explode(['data_points'])\n",
    "df[['wordsInMark', 'chineseCharacter', 'url', 'descrOfDevice']] = df.apply(lambda row: expand(row), axis=1, result_type=\"expand\")\n",
    "df = df.drop(columns=[\"data_points\"])\n",
    "df.reset_index(inplace=True, drop=True)\n",
    "df.to_csv(\"./trademark_data_p3.csv\", index=False)"
   ]
  },
  {
   "cell_type": "markdown",
   "id": "0b622fce",
   "metadata": {},
   "source": [
    "### Download images"
   ]
  },
  {
   "cell_type": "code",
   "execution_count": null,
   "id": "5d121bea",
   "metadata": {},
   "outputs": [],
   "source": [
    "base_path = Path(f\"./images\")\n",
    "Path(base_path).mkdir(parents=True, exist_ok=True)"
   ]
  },
  {
   "cell_type": "code",
   "execution_count": null,
   "id": "e60387d4",
   "metadata": {},
   "outputs": [],
   "source": [
    "def download_images(row):\n",
    "    try:\n",
    "        image_url = row[\"url\"]\n",
    "        file_name = image_url.split(\"/\")[-1]\n",
    "\n",
    "        if os.path.exists(f\"{str(base_path)}/{file_name}\"):\n",
    "            return True\n",
    "        else:\n",
    "            response = requests.get(image_url, timeout=10)\n",
    "            img = Image.open(BytesIO(response.content))\n",
    "            img.save(f\"{str(base_path)}/{file_name}\",  optimize=True, quality=70) \n",
    "            return True\n",
    "    except:\n",
    "        return False"
   ]
  },
  {
   "cell_type": "code",
   "execution_count": null,
   "id": "2ca43767",
   "metadata": {},
   "outputs": [],
   "source": [
    "trademark = pd.read_csv(\"./tradmark_data.csv\")\n",
    "trademark[\"downloaded\"] = trademark.parallel_apply(download_images, axis=1)\n",
    "trademark.loc[trademark[\"downloaded\"]].to_csv(\"trademark_with_images.csv\")\n",
    "trademark = trademark.loc[trademark[\"downloaded\"]]\n",
    "trademark.fillna(\"\", inplace=True)"
   ]
  },
  {
   "cell_type": "markdown",
   "id": "9249c6f4",
   "metadata": {},
   "source": [
    "### Create train test datasets"
   ]
  },
  {
   "cell_type": "code",
   "execution_count": null,
   "id": "3dee2504",
   "metadata": {},
   "outputs": [],
   "source": [
    "def get_answer(row):\n",
    "    answer = {\n",
    "    \"wordsInMark\": row[\"wordsInMark\"],\n",
    "    \"chineseCharacter\" : row[\"chineseCharacter\"],\n",
    "    \"descrOfDevice\" : row[\"descrOfDevice\"]\n",
    "    }\n",
    "    return json.dumps(answer)\n",
    "\n",
    "def get_size(row):\n",
    "    image_path = row[\"image_path\"]\n",
    "    img = Image.open(image_path)\n",
    "    width = img.size[0]\n",
    "    img.close()\n",
    "    return width"
   ]
  },
  {
   "cell_type": "code",
   "execution_count": null,
   "id": "b8e6036f",
   "metadata": {},
   "outputs": [],
   "source": [
    "trademark[\"answer\"] = trademark.apply(get_answer, axis=1)\n",
    "trademark.to_csv(\"trademark_with_images.csv\", index=False)"
   ]
  },
  {
   "cell_type": "code",
   "execution_count": null,
   "id": "09c95c78",
   "metadata": {},
   "outputs": [],
   "source": [
    "trademark = pd.read_csv(\"trademark_with_images.csv\")\n",
    "trademark = trademark.loc[~trademark.url.isna()]\n",
    "trademark.fillna(\"\", inplace=True)\n",
    "trademark[\"answer\"] = trademark.apply(get_answer, axis=1)\n",
    "trademark[\"image_path\"] = trademark.url.apply(lambda x: f\"./images/{x.split('/')[-1]}\")\n",
    "trademark = trademark.loc[~trademark[\"image_path\"].str.contains('tif')]\n",
    "trademark[\"img_width\"]  = trademark.parallel_apply(get_size, axis=1)"
   ]
  },
  {
   "cell_type": "code",
   "execution_count": null,
   "id": "a3a6d3a1",
   "metadata": {},
   "outputs": [],
   "source": [
    "trademark = trademark.loc[trademark[\"img_width\"] <2400]"
   ]
  },
  {
   "cell_type": "code",
   "execution_count": null,
   "id": "7e401a12",
   "metadata": {},
   "outputs": [],
   "source": [
    "train, test = train_test_split(trademark, test_size=0.2, random_state=42)\n",
    "train.to_csv(\"trademark_train.csv\", index=False)\n",
    "test.to_csv(\"trademark_test.csv\", index=False)\n",
    "trademark.to_csv(\"trademark_with_images.csv\", index=False)"
   ]
  },
  {
   "cell_type": "code",
   "execution_count": null,
   "id": "b9f7772a",
   "metadata": {},
   "outputs": [],
   "source": []
  },
  {
   "cell_type": "code",
   "execution_count": null,
   "id": "6146c06b",
   "metadata": {},
   "outputs": [],
   "source": []
  }
 ],
 "metadata": {
  "kernelspec": {
   "display_name": "abhinav_env",
   "language": "python",
   "name": "abhinav_env"
  },
  "language_info": {
   "codemirror_mode": {
    "name": "ipython",
    "version": 3
   },
   "file_extension": ".py",
   "mimetype": "text/x-python",
   "name": "python",
   "nbconvert_exporter": "python",
   "pygments_lexer": "ipython3",
   "version": "3.10.12"
  }
 },
 "nbformat": 4,
 "nbformat_minor": 5
}
